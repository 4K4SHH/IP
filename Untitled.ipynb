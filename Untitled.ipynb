{
 "cells": [
  {
   "cell_type": "code",
   "execution_count": 20,
   "id": "214da087",
   "metadata": {},
   "outputs": [
    {
     "name": "stdout",
     "output_type": "stream",
     "text": [
      "image format JPEG\n",
      "Image size (1000, 1500)\n",
      "Image mode RGB\n"
     ]
    }
   ],
   "source": [
    "from PIL import Image\n",
    "def image_print(image_path):\n",
    "    img = Image.open(image_path)\n",
    "    print(\"image format\",img.format)\n",
    "    print(\"Image size\",img.size)\n",
    "    print(\"Image mode\",img.mode)\n",
    "    img.show()\n",
    "image_path = \"flowers.jpeg\"\n",
    "image_print(image_path)"
   ]
  },
  {
   "cell_type": "code",
   "execution_count": null,
   "id": "37148ee9",
   "metadata": {},
   "outputs": [],
   "source": []
  },
  {
   "cell_type": "code",
   "execution_count": null,
   "id": "844cd7b9",
   "metadata": {},
   "outputs": [],
   "source": [
    "_"
   ]
  }
 ],
 "metadata": {
  "kernelspec": {
   "display_name": "Python 3 (ipykernel)",
   "language": "python",
   "name": "python3"
  },
  "language_info": {
   "codemirror_mode": {
    "name": "ipython",
    "version": 3
   },
   "file_extension": ".py",
   "mimetype": "text/x-python",
   "name": "python",
   "nbconvert_exporter": "python",
   "pygments_lexer": "ipython3",
   "version": "3.10.12"
  }
 },
 "nbformat": 4,
 "nbformat_minor": 5
}
