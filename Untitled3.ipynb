{
 "cells": [
  {
   "cell_type": "code",
   "execution_count": 4,
   "id": "f6684604",
   "metadata": {},
   "outputs": [
    {
     "name": "stdout",
     "output_type": "stream",
     "text": [
      "image format JPEG\n",
      "Image size (1000, 1500)\n",
      "Image mode RGB\n",
      "image format JPEG\n",
      "Image size (720, 1280)\n",
      "Image mode RGB\n",
      "image format JPEG\n",
      "Image size (4000, 2000)\n",
      "Image mode RGB\n"
     ]
    }
   ],
   "source": [
    "from PIL import Image\n",
    "import os\n",
    "import shutil\n",
    "def image_print(image_path,cpfolder):\n",
    "    img = Image.open(image_path)\n",
    "    print(\"image format\",img.format)\n",
    "    print(\"Image size\",img.size)\n",
    "    print(\"Image mode\",img.mode)\n",
    "    shutil.copy(image_path,cpfolder)\n",
    "    img.show()\n",
    "folder = \"images\" \n",
    "cpfolder = \"images2\"\n",
    "image_path = os.listdir(folder)\n",
    "for i in image_path:\n",
    "    image_print(f\"{folder}/{i}\",cpfolder)"
   ]
  }
 ],
 "metadata": {
  "kernelspec": {
   "display_name": "Python 3 (ipykernel)",
   "language": "python",
   "name": "python3"
  },
  "language_info": {
   "codemirror_mode": {
    "name": "ipython",
    "version": 3
   },
   "file_extension": ".py",
   "mimetype": "text/x-python",
   "name": "python",
   "nbconvert_exporter": "python",
   "pygments_lexer": "ipython3",
   "version": "3.10.12"
  }
 },
 "nbformat": 4,
 "nbformat_minor": 5
}
